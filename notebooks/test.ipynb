{
 "cells": [
  {
   "cell_type": "code",
   "execution_count": 13,
   "id": "b70403cf",
   "metadata": {},
   "outputs": [],
   "source": [
    "import json\n",
    "import os\n",
    "import numpy as np \n",
    "from collections import defaultdict"
   ]
  },
  {
   "cell_type": "code",
   "execution_count": 16,
   "id": "a72e04b8",
   "metadata": {},
   "outputs": [],
   "source": [
    "path = \"../data/cladder-v1-q-balanced.json\"\n",
    "meta_path = \"../data/cladder-v1-meta-models.json\"\n",
    "with open(path, \"r\") as f:\n",
    "    data = json.load(f)\n",
    "\n",
    "with open(meta_path, \"r\") as f:\n",
    "    meta_data = json.load(f)\n"
   ]
  },
  {
   "cell_type": "code",
   "execution_count": 17,
   "id": "7f2876ea",
   "metadata": {},
   "outputs": [
    {
     "name": "stdout",
     "output_type": "stream",
     "text": [
      "model_id: 0\n",
      "story_id: alarm\n",
      "graph_id: mediation\n",
      "spec_id: 0\n",
      "spec: {'X': [0.6, 0.8], 'V2': {'X': -0.2}, 'Y': {'X': 0.3, 'V2': 0.4}}\n",
      "seed: 101\n",
      "builder: difficulty\n",
      "difficulty: easy\n",
      "equation_type: bernoulli\n",
      "background: Imagine a self-contained, hypothetical world with only the following conditions, and without any unmentioned factors or causal relationships: Husband has a direct effect on wife and alarm clock. Wife has a direct effect on alarm clock.\n",
      "variable_mapping: {'Xname': 'husband', 'X1': 'alarm set by husband', 'X0': 'alarm not set by husband', 'V2name': 'wife', 'V21': 'alarm set by wife', 'V20': 'alarm not set by wife', 'Yname': 'alarm clock', 'Y1': 'ringing alarm', 'Y0': 'silent alarm'}\n",
      "structure: X->V2,X->Y,V2->Y\n",
      "params: {'p(X)': 0.7887065011221108, 'p(V2 | X)': [0.7416866188819118, 0.2351932407152126], 'p(Y | X, V2)': [[0.08430222457648492, 0.5394610521458689], [0.4061509701126924, 0.8620283206949243]]}\n",
      "groundtruth: {'ATE(Y | X)': 0.09148280511411633, 'ETT(Y | X)': 0.09148280511411633, 'NDE(Y | X)': 0.32238166444019534, 'NIE(Y | X)': -0.2305349321780112, 'P(Y=1 | X=1)': 0.5133702415647927, 'P(Y=1 | X=0)': 0.4218874364506764, 'P(X=1)': 0.7887065011221105, 'P(V2=1)': 0.3422119987465367, 'P(Y=1)': 0.49410116751885785}\n",
      "----------------------------------------------------------------------------------------------------------------------------------------------------------------\n",
      "question_id: 321\n",
      "desc_id: firing_employee-diamondcut-ate-model72-spec12-q1\n",
      "given_info: For CEOs who fire employees and managers who don't sign termination letters, the probability of employee being fired is 22%. For CEOs who fire employees and managers who sign termination letters, the probability of employee being fired is 59%. For CEOs who fire employees and managers who don't sign termination letters, the probability of employee being fired is 49%. For CEOs who fire employees and managers who sign termination letters, the probability of employee being fired is 84%. The overall probability of CEO's decision to fire the employee is 13%.\n",
      "question: Will manager signing the termination letter decrease the chance of employee being fired?\n",
      "answer: no\n",
      "meta: {'story_id': 'firing_employee', 'graph_id': 'diamondcut', 'treated': True, 'result': True, 'polarity': False, 'groundtruth': 0.3672740710508242, 'query_type': 'ate', 'rung': 2, 'formal_form': 'E[Y | do(X = 1)] - E[Y | do(X = 0)]', 'given_info': {'p(Y | V1, X)': [[0.22047483359007883, 0.590990302491316], [0.49088149706288514, 0.8366217055351406]], 'p(V1)': [0.13083203947359318]}, 'estimand': '\\\\sum_{V1=v} P(V1=v)*[P(Y=1|V1=v,X=1) - P(Y=1|V1=v, X=0)]', 'treatment': 'X', 'outcome': 'Y', 'model_id': 72}\n",
      "reasoning: {'step0': 'Let V1 = CEO; V3 = director; X = manager; Y = employee.', 'step1': 'V1->V3,V1->X,X->Y,V3->Y', 'step2': 'E[Y | do(X = 1)] - E[Y | do(X = 0)]', 'step3': '\\\\sum_{V1=v} P(V1=v)*[P(Y=1|V1=v,X=1) - P(Y=1|V1=v, X=0)]', 'step4': 'P(Y=1 | V1=0, X=0) = 0.22\\nP(Y=1 | V1=0, X=1) = 0.59\\nP(Y=1 | V1=1, X=0) = 0.49\\nP(Y=1 | V1=1, X=1) = 0.84\\nP(V1=1) = 0.13', 'step5': '0.87 * (0.59 - 0.22) 0.13 * (0.84 - 0.49) = 0.37', 'end': '0.37 > 0'}\n"
     ]
    }
   ],
   "source": [
    "for k,v in meta_data[0].items():\n",
    "    print (f\"{k}: {v}\")\n",
    "\n",
    "print ('--'*80)\n",
    "for k,v in data[100].items():\n",
    "    print (f\"{k}: {v}\")"
   ]
  },
  {
   "cell_type": "markdown",
   "id": "efa57a5b",
   "metadata": {},
   "source": [
    "data sample should have question|steps|answer field"
   ]
  },
  {
   "cell_type": "code",
   "execution_count": 46,
   "id": "d8e0ea6e",
   "metadata": {},
   "outputs": [],
   "source": [
    "rung_ds = defaultdict(list) # split into different rungs\n",
    "\n",
    "background_info = {}\n",
    "for d in meta_data:\n",
    "    background_info[d['model_id']] = d['background']\n",
    "\n",
    "# make sure the last 3 steps are different, ie the variable should be different.\n",
    "for d in data:\n",
    "    if d['reasoning'] is None:\n",
    "        continue\n",
    "    assert d['question'] is not None and d['given_info'] is not None and d['answer'] in ['yes','no']\n",
    "    rung = d['meta']['rung']\n",
    "    assert rung in [1,2,3]\n",
    "    background = background_info[d['meta']['model_id']]\n",
    "    steps = [d['reasoning'][f'step{i}'] for i in range(6)]\n",
    "    steps[-1] = steps[-1] + ', ' + d['reasoning']['end']\n",
    "    rung_ds[rung].append({'question': f\"{background}\\n{d['given_info']}\\n{d['question']}\",\n",
    "        'steps':steps,\n",
    "        'answer':d['answer'],\n",
    "        'rung':rung,\n",
    "        })\n",
    "\n",
    "    "
   ]
  },
  {
   "cell_type": "markdown",
   "id": "f4f45694",
   "metadata": {},
   "source": [
    "Train on rung 1/2 and test on 3 (3 is the hardest)"
   ]
  },
  {
   "cell_type": "code",
   "execution_count": 47,
   "id": "d1e14bed",
   "metadata": {},
   "outputs": [
    {
     "name": "stdout",
     "output_type": "stream",
     "text": [
      "train size: 4740\n",
      "valid size: 100\n",
      "test size: 3692\n"
     ]
    }
   ],
   "source": [
    "# split into training,test \n",
    "\n",
    "valid_size = 100\n",
    "train_ds = []\n",
    "test_ds = []\n",
    "valid_ds = []\n",
    "\n",
    "np.random.seed(42)\n",
    "\n",
    "train_ds = sum([v for k,v in rung_ds.items() if k <3],[])\n",
    "np.random.shuffle(train_ds)\n",
    "\n",
    "np.random.shuffle(rung_ds[3])\n",
    "valid_ds = rung_ds[3][:valid_size]\n",
    "test_ds = rung_ds[3][valid_size:]\n",
    "\n",
    "print (f\"train size: {len(train_ds)}\")\n",
    "print (f\"valid size: {len(valid_ds)}\")\n",
    "print (f\"test size: {len(test_ds)}\")"
   ]
  },
  {
   "cell_type": "code",
   "execution_count": 54,
   "id": "dcbd35e8",
   "metadata": {},
   "outputs": [],
   "source": [
    "train_ds_path = '../data/cladder_train_gen.json'\n",
    "valid_ds_path = '../data/cladder_valid_gen.json'\n",
    "test_ds_path = '../data/cladder_test_gen.json'\n",
    "\n",
    "with open(train_ds_path, \"w\") as f:\n",
    "    json.dump(train_ds, f)\n",
    "with open(valid_ds_path, \"w\") as f:\n",
    "    json.dump(valid_ds, f)\n",
    "with open(test_ds_path, \"w\") as f:\n",
    "    json.dump(test_ds, f)"
   ]
  },
  {
   "cell_type": "markdown",
   "id": "5319d92e",
   "metadata": {},
   "source": [
    "# Look at GSM8K, take fixed step and see if helps perf"
   ]
  },
  {
   "cell_type": "code",
   "execution_count": 8,
   "id": "2f96bf17",
   "metadata": {},
   "outputs": [],
   "source": [
    "gsm_train_path = '../data/gsm_train.json'\n",
    "gsm_valid_path = '../data/gsm_valid.json'\n",
    "gsm_test_path = '../data/gsm_test.json'\n",
    "\n",
    "with open(gsm_train_path, \"r\") as f:\n",
    "    gsm_train = json.load(f)\n",
    "with open(gsm_valid_path, \"r\") as f:\n",
    "    gsm_valid = json.load(f)\n",
    "with open(gsm_test_path, \"r\") as f:\n",
    "    gsm_test = json.load(f)"
   ]
  },
  {
   "cell_type": "code",
   "execution_count": null,
   "id": "0ba7c582",
   "metadata": {},
   "outputs": [
    {
     "name": "stdout",
     "output_type": "stream",
     "text": [
      "[(2, 143578), (3, 104249), (1, 62908), (4, 48198), (5, 17906), (6, 5666), (7, 2359), (8, 577), (9, 126), (10, 43), (11, 8), (12, 1), (13, 1)]\n",
      "[(2, 155), (3, 140), (4, 91), (5, 53), (1, 32), (6, 18), (7, 8), (8, 3)]\n",
      "[(3, 364), (2, 357), (4, 290), (5, 138), (1, 83), (6, 57), (7, 21), (8, 9)]\n"
     ]
    }
   ],
   "source": [
    "\n",
    "train_steps = defaultdict(int)\n",
    "val_steps = defaultdict(int)\n",
    "test_steps = defaultdict(int)\n",
    "\n",
    "for d in gsm_train:\n",
    "    train_steps[len(d['steps'])] += 1\n",
    "for d in gsm_valid:\n",
    "    val_steps[len(d['steps'])] += 1\n",
    "for d in gsm_test:\n",
    "    test_steps[len(d['steps'])] += 1\n",
    "print(sorted(train_steps.items(), key=lambda x: x[1], reverse=True))\n",
    "print(sorted(val_steps.items(), key=lambda x: x[1], reverse=True))\n",
    "print(sorted(test_steps.items(), key=lambda x: x[1], reverse=True))"
   ]
  },
  {
   "cell_type": "code",
   "execution_count": 12,
   "id": "f9eb17c2",
   "metadata": {},
   "outputs": [],
   "source": [
    "# fix steps to 3\n",
    "steps = 3\n",
    "new_train_ds = []\n",
    "new_val_ds = []\n",
    "new_test_ds = []\n",
    "for d in gsm_train:\n",
    "    if len(d['steps']) == steps:\n",
    "        new_train_ds.append(d)\n",
    "for d in gsm_valid:\n",
    "    if len(d['steps']) == steps:\n",
    "        new_val_ds.append(d)\n",
    "for d in gsm_test:\n",
    "    if len(d['steps']) == steps:\n",
    "        new_test_ds.append(d)\n",
    "\n",
    "\n",
    "new_train_ds_path = '../data/gsm_train_3.json'\n",
    "new_val_ds_path = '../data/gsm_valid_3.json'\n",
    "new_test_ds_path = '../data/gsm_test_3.json'\n",
    "with open(new_train_ds_path, \"w\") as f:\n",
    "    json.dump(new_train_ds, f)\n",
    "with open(new_val_ds_path, \"w\") as f:\n",
    "    json.dump(new_val_ds, f)\n",
    "with open(new_test_ds_path, \"w\") as f:\n",
    "    json.dump(new_test_ds, f)\n",
    "\n"
   ]
  },
  {
   "cell_type": "code",
   "execution_count": null,
   "id": "aedce556",
   "metadata": {},
   "outputs": [],
   "source": []
  }
 ],
 "metadata": {
  "kernelspec": {
   "display_name": "cot",
   "language": "python",
   "name": "python3"
  },
  "language_info": {
   "codemirror_mode": {
    "name": "ipython",
    "version": 3
   },
   "file_extension": ".py",
   "mimetype": "text/x-python",
   "name": "python",
   "nbconvert_exporter": "python",
   "pygments_lexer": "ipython3",
   "version": "3.10.0"
  }
 },
 "nbformat": 4,
 "nbformat_minor": 5
}
